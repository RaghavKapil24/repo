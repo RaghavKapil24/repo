{
  "nbformat": 4,
  "nbformat_minor": 0,
  "metadata": {
    "colab": {
      "provenance": []
    },
    "kernelspec": {
      "name": "python3",
      "display_name": "Python 3"
    },
    "language_info": {
      "name": "python"
    }
  },
  "cells": [
    {
      "cell_type": "markdown",
      "source": [
        "#Upload users.csv and repositories.csv before running this\n"
      ],
      "metadata": {
        "id": "gymoH4ClepHs"
      }
    },
    {
      "cell_type": "markdown",
      "source": [
        "###Question 1"
      ],
      "metadata": {
        "id": "l2DFnkzSexm3"
      }
    },
    {
      "cell_type": "code",
      "source": [
        "def get_top_5_users_with_highest_followers(filename=\"users.csv\"):\n",
        "    users = []\n",
        "    with open(filename, mode=\"r\", encoding=\"utf-8\") as file:\n",
        "        reader = csv.DictReader(file)\n",
        "        for row in reader:\n",
        "            row[\"followers\"] = int(row[\"followers\"])\n",
        "            users.append(row)\n",
        "\n",
        "    top_5_users = sorted(users, key=lambda x: x[\"followers\"], reverse=True)[:5]\n",
        "    top_5_logins = [user[\"login\"] for user in top_5_users]\n",
        "    return \", \".join(top_5_logins)\n",
        "\n",
        "\n",
        "top_5_logins = get_top_5_users_with_highest_followers()\n",
        "print(\"Top 5 users in Shanghai with the highest number of followers:\", top_5_logins)"
      ],
      "metadata": {
        "colab": {
          "base_uri": "https://localhost:8080/"
        },
        "id": "qb74nRqyjzDJ",
        "outputId": "69d87b57-c13e-41d9-ded7-5de097ab423b"
      },
      "execution_count": null,
      "outputs": [
        {
          "output_type": "stream",
          "name": "stdout",
          "text": [
            "Top 5 users in Shanghai with the highest number of followers: peng-zhihui, ruanyf, phodal, liyupi, stormzhang\n"
          ]
        }
      ]
    },
    {
      "cell_type": "markdown",
      "source": [
        "###Question 2"
      ],
      "metadata": {
        "id": "MNQAMo8wfLN5"
      }
    },
    {
      "cell_type": "code",
      "source": [
        "from datetime import datetime\n",
        "import csv\n",
        "\n",
        "def get_earliest_5_users(filename=\"users.csv\"):\n",
        "    users = []\n",
        "    with open(filename, mode=\"r\", encoding=\"utf-8\") as file:\n",
        "        reader = csv.DictReader(file)\n",
        "        for row in reader:\n",
        "            row[\"created_at\"] = datetime.strptime(row[\"created_at\"], \"%Y-%m-%dT%H:%M:%SZ\")\n",
        "            users.append(row)\n",
        "\n",
        "    earliest_5_users = sorted(users, key=lambda x: x[\"created_at\"])[:5]\n",
        "    earliest_5_logins = [user[\"login\"] for user in earliest_5_users]\n",
        "    return \", \".join(earliest_5_logins)\n",
        "\n",
        "earliest_5_logins = get_earliest_5_users()\n",
        "print(\"The 5 earliest registered GitHub users in Shanghai:\", earliest_5_logins)"
      ],
      "metadata": {
        "colab": {
          "base_uri": "https://localhost:8080/"
        },
        "id": "_M4kLXXLnILs",
        "outputId": "9acc6ff3-40d7-4ca2-befd-f5d8dc0c00e1"
      },
      "execution_count": null,
      "outputs": [
        {
          "output_type": "stream",
          "name": "stdout",
          "text": [
            "The 5 earliest registered GitHub users in Shanghai: osteele, mrluanma, ShiningRay, rainux, why404\n"
          ]
        }
      ]
    },
    {
      "cell_type": "markdown",
      "source": [
        "###Question 3"
      ],
      "metadata": {
        "id": "uHMKKpKbfOSf"
      }
    },
    {
      "cell_type": "code",
      "source": [
        "from collections import Counter\n",
        "\n",
        "def get_top_3_licenses(filename=\"repositories.csv\"):\n",
        "    licenses = []\n",
        "\n",
        "    with open(filename, mode=\"r\", encoding=\"utf-8\") as file:\n",
        "        reader = csv.DictReader(file)\n",
        "        for row in reader:\n",
        "            license_name = row[\"license_name\"]\n",
        "            if license_name:\n",
        "                licenses.append(license_name)\n",
        "\n",
        "    license_counts = Counter(licenses).most_common(3)\n",
        "    top_3_licenses = [license[0] for license in license_counts]\n",
        "    return \", \".join(top_3_licenses)\n",
        "\n",
        "top_3_licenses = get_top_3_licenses()\n",
        "print(\"The 3 most popular licenses among these users:\", top_3_licenses)"
      ],
      "metadata": {
        "colab": {
          "base_uri": "https://localhost:8080/"
        },
        "id": "6xlhV25BnS0a",
        "outputId": "4c015f6c-fcdd-4937-e732-f6650f4c1c8a"
      },
      "execution_count": null,
      "outputs": [
        {
          "output_type": "stream",
          "name": "stdout",
          "text": [
            "The 3 most popular licenses among these users: mit, apache-2.0, other\n"
          ]
        }
      ]
    },
    {
      "cell_type": "markdown",
      "source": [
        "###Question 4"
      ],
      "metadata": {
        "id": "v_y41yRifWjw"
      }
    },
    {
      "cell_type": "code",
      "source": [
        "from collections import Counter\n",
        "\n",
        "def most_common_company(filename=\"users.csv\"):\n",
        "    companies = []\n",
        "\n",
        "    with open(filename, mode=\"r\", encoding=\"utf-8\") as file:\n",
        "        reader = csv.DictReader(file)\n",
        "        for row in reader:\n",
        "            company = row[\"company\"]\n",
        "            if company:\n",
        "                companies.append(company)\n",
        "\n",
        "    most_common_company = Counter(companies).most_common(1)[0][0]\n",
        "\n",
        "    return most_common_company\n",
        "\n",
        "majority_company = most_common_company()\n",
        "print(\"Company with the majority of developers:\", majority_company)\n"
      ],
      "metadata": {
        "colab": {
          "base_uri": "https://localhost:8080/"
        },
        "id": "P2b7ufLypDuj",
        "outputId": "86168083-880c-494b-931a-6e4e99d1ad50"
      },
      "execution_count": null,
      "outputs": [
        {
          "output_type": "stream",
          "name": "stdout",
          "text": [
            "Company with the majority of developers: BYTEDANCE\n"
          ]
        }
      ]
    },
    {
      "cell_type": "markdown",
      "source": [
        "###Question 5"
      ],
      "metadata": {
        "id": "QzJ-yq-xfeVn"
      }
    },
    {
      "cell_type": "code",
      "source": [
        "def most_popular_language(filename=\"repositories.csv\"):\n",
        "    languages = []\n",
        "\n",
        "    with open(filename, mode=\"r\", encoding=\"utf-8\") as file:\n",
        "        reader = csv.DictReader(file)\n",
        "        for row in reader:\n",
        "            language = row[\"language\"]\n",
        "            if language:\n",
        "                languages.append(language)\n",
        "\n",
        "    most_common_language = Counter(languages).most_common(1)[0][0]\n",
        "\n",
        "    return most_common_language\n",
        "\n",
        "popular_language = most_popular_language()\n",
        "print(\"Most popular programming language:\", popular_language)\n"
      ],
      "metadata": {
        "colab": {
          "base_uri": "https://localhost:8080/"
        },
        "id": "xSpLSfh_pI57",
        "outputId": "1daa9443-0a75-4135-c796-eae5f5ccca96"
      },
      "execution_count": null,
      "outputs": [
        {
          "output_type": "stream",
          "name": "stdout",
          "text": [
            "Most popular programming language: JavaScript\n"
          ]
        }
      ]
    },
    {
      "cell_type": "markdown",
      "source": [
        "###Question 6"
      ],
      "metadata": {
        "id": "PdEsCNTCflWY"
      }
    },
    {
      "cell_type": "code",
      "source": [
        "def second_popular_language_after_2020(users_file=\"users.csv\", repos_file=\"repositories.csv\"):\n",
        "    user_join_dates = {}\n",
        "    languages = []\n",
        "\n",
        "    with open(users_file, mode=\"r\", encoding=\"utf-8\") as file:\n",
        "        reader = csv.DictReader(file)\n",
        "        for row in reader:\n",
        "            if datetime.strptime(row[\"created_at\"], \"%Y-%m-%dT%H:%M:%SZ\").year >= 2020:\n",
        "                user_join_dates[row[\"login\"]] = True\n",
        "\n",
        "    with open(repos_file, mode=\"r\", encoding=\"utf-8\") as file:\n",
        "        reader = csv.DictReader(file)\n",
        "        for row in reader:\n",
        "            if row[\"login\"] in user_join_dates:\n",
        "                language = row[\"language\"]\n",
        "                if language:\n",
        "                    languages.append(language)\n",
        "\n",
        "    language_counts = Counter(languages).most_common(2)\n",
        "    second_most_common_language = language_counts[1][0] if len(language_counts) > 1 else \"\"\n",
        "\n",
        "    return second_most_common_language\n",
        "\n",
        "second_popular_language = second_popular_language_after_2020()\n",
        "print(\"Second most popular language after 2020:\", second_popular_language)\n"
      ],
      "metadata": {
        "colab": {
          "base_uri": "https://localhost:8080/"
        },
        "id": "pNtLhcJQpI8X",
        "outputId": "f9d513fa-7048-421a-cc06-afc4fb6079a1"
      },
      "execution_count": null,
      "outputs": [
        {
          "output_type": "stream",
          "name": "stdout",
          "text": [
            "Second most popular language after 2020: Go\n"
          ]
        }
      ]
    },
    {
      "cell_type": "markdown",
      "source": [
        "###Question 7"
      ],
      "metadata": {
        "id": "9wkggUkQfrQR"
      }
    },
    {
      "cell_type": "code",
      "source": [
        "from collections import defaultdict\n",
        "\n",
        "def language_with_highest_avg_stars(filename=\"repositories.csv\"):\n",
        "    language_stars = defaultdict(list)\n",
        "\n",
        "    with open(filename, mode=\"r\", encoding=\"utf-8\") as file:\n",
        "        reader = csv.DictReader(file)\n",
        "        for row in reader:\n",
        "            language = row[\"language\"]\n",
        "            if language:\n",
        "                stars = int(row[\"stargazers_count\"])\n",
        "                language_stars[language].append(stars)\n",
        "\n",
        "    avg_stars = {lang: sum(stars)/len(stars) for lang, stars in language_stars.items()}\n",
        "\n",
        "    highest_avg_language = max(avg_stars, key=avg_stars.get)\n",
        "\n",
        "    return highest_avg_language\n",
        "\n",
        "highest_avg_stars_language = language_with_highest_avg_stars()\n",
        "print(\"Language with highest average stars:\", highest_avg_stars_language)\n"
      ],
      "metadata": {
        "colab": {
          "base_uri": "https://localhost:8080/"
        },
        "id": "FnWVJpMipI-5",
        "outputId": "b0051e4d-b8ff-4abf-da06-5a492ef2574d"
      },
      "execution_count": null,
      "outputs": [
        {
          "output_type": "stream",
          "name": "stdout",
          "text": [
            "Language with highest average stars: Vue\n"
          ]
        }
      ]
    },
    {
      "cell_type": "markdown",
      "source": [
        "###Question 8"
      ],
      "metadata": {
        "id": "Js-w9pxDfyR5"
      }
    },
    {
      "cell_type": "code",
      "source": [
        "def top_5_leader_strength(filename=\"users.csv\"):\n",
        "    users = []\n",
        "\n",
        "    with open(filename, mode=\"r\", encoding=\"utf-8\") as file:\n",
        "        reader = csv.DictReader(file)\n",
        "        for row in reader:\n",
        "            followers = int(row[\"followers\"])\n",
        "            following = int(row[\"following\"])\n",
        "            leader_strength = followers / (1 + following)\n",
        "            users.append((row[\"login\"], leader_strength))\n",
        "\n",
        "    # Sort by leader strength in descending order and get the top 5\n",
        "    top_5_users = sorted(users, key=lambda x: x[1], reverse=True)[:5]\n",
        "\n",
        "    # Extract the login names of the top 5 users\n",
        "    top_5_logins = [user[0] for user in top_5_users]\n",
        "\n",
        "    return \",\".join(top_5_logins)\n",
        "\n",
        "# Get the result\n",
        "top_5_leaders = top_5_leader_strength()\n",
        "print(\"Top 5 users by leader strength:\", top_5_leaders)\n"
      ],
      "metadata": {
        "colab": {
          "base_uri": "https://localhost:8080/"
        },
        "id": "lq0XIjeHpJBw",
        "outputId": "2eb44ca0-bd80-4bef-a298-67a6b1eb837b"
      },
      "execution_count": null,
      "outputs": [
        {
          "output_type": "stream",
          "name": "stdout",
          "text": [
            "Top 5 users by leader strength: ruanyf,peng-zhihui,espressif,vnpy,bilibili\n"
          ]
        }
      ]
    },
    {
      "cell_type": "markdown",
      "source": [
        "###Question 9"
      ],
      "metadata": {
        "id": "bBk6aus2g7qx"
      }
    },
    {
      "cell_type": "code",
      "source": [
        "import csv\n",
        "import numpy as np\n",
        "\n",
        "def followers_repos_correlation(filename=\"users.csv\"):\n",
        "    followers = []\n",
        "    public_repos = []\n",
        "\n",
        "    with open(filename, mode=\"r\", encoding=\"utf-8\") as file:\n",
        "        reader = csv.DictReader(file)\n",
        "        for row in reader:\n",
        "            followers.append(int(row[\"followers\"]))\n",
        "            public_repos.append(int(row[\"public_repos\"]))\n",
        "\n",
        "    correlation = np.corrcoef(followers, public_repos)[0, 1]\n",
        "\n",
        "    return correlation\n",
        "\n",
        "correlation_value = followers_repos_correlation()\n",
        "print(\"Correlation between followers and public repos:\", correlation_value)\n"
      ],
      "metadata": {
        "colab": {
          "base_uri": "https://localhost:8080/"
        },
        "id": "UgEWrdmzpJEm",
        "outputId": "17070911-f60e-4b57-df98-a2f210f26043"
      },
      "execution_count": null,
      "outputs": [
        {
          "output_type": "stream",
          "name": "stdout",
          "text": [
            "Correlation between followers and public repos: -0.0050976020145691615\n"
          ]
        }
      ]
    },
    {
      "cell_type": "markdown",
      "source": [
        "###Question 10"
      ],
      "metadata": {
        "id": "um1V_VAHhE5P"
      }
    },
    {
      "cell_type": "code",
      "source": [
        "import csv\n",
        "import numpy as np\n",
        "from sklearn.linear_model import LinearRegression\n",
        "\n",
        "def repos_followers_regression(filename=\"users.csv\"):\n",
        "    followers = []\n",
        "    public_repos = []\n",
        "\n",
        "    with open(filename, mode=\"r\", encoding=\"utf-8\") as file:\n",
        "        reader = csv.DictReader(file)\n",
        "        for row in reader:\n",
        "            followers.append(int(row[\"followers\"]))\n",
        "            public_repos.append(int(row[\"public_repos\"]))\n",
        "\n",
        "    X = np.array(public_repos).reshape(-1, 1)\n",
        "    y = np.array(followers)\n",
        "\n",
        "    model = LinearRegression().fit(X, y)\n",
        "    additional_followers_per_repo = model.coef_[0]\n",
        "\n",
        "    return additional_followers_per_repo\n",
        "\n",
        "additional_followers = repos_followers_regression()\n",
        "print(\"Additional followers per additional repo:\", additional_followers)\n"
      ],
      "metadata": {
        "colab": {
          "base_uri": "https://localhost:8080/"
        },
        "id": "S3Gv8m9_qOkt",
        "outputId": "d0f98ec9-0b44-4bfc-ef42-452eab3a467b"
      },
      "execution_count": null,
      "outputs": [
        {
          "output_type": "stream",
          "name": "stdout",
          "text": [
            "Additional followers per additional repo: -0.05431772559230106\n"
          ]
        }
      ]
    },
    {
      "cell_type": "markdown",
      "source": [
        "###Question 11"
      ],
      "metadata": {
        "id": "5c0JCadkjm6h"
      }
    },
    {
      "cell_type": "code",
      "source": [
        "import csv\n",
        "import numpy as np\n",
        "\n",
        "def projects_wiki_correlation(filename=\"repositories.csv\"):\n",
        "    has_projects = []\n",
        "    has_wiki = []\n",
        "\n",
        "    with open(filename, mode=\"r\", encoding=\"utf-8\") as file:\n",
        "        reader = csv.DictReader(file)\n",
        "        for row in reader:\n",
        "            has_projects.append(1 if row[\"has_projects\"] == \"True\" else 0)\n",
        "            has_wiki.append(1 if row[\"has_wiki\"] == \"True\" else 0)\n",
        "\n",
        "    if len(has_projects) != len(has_wiki) or len(has_projects) == 0:\n",
        "        return None\n",
        "\n",
        "    correlation = np.corrcoef(has_projects, has_wiki)[0, 1]\n",
        "\n",
        "    return round(correlation, 3)\n",
        "\n",
        "projects_wiki_corr = projects_wiki_correlation()\n",
        "print(\"Correlation between projects and wiki enabled:\", projects_wiki_corr)"
      ],
      "metadata": {
        "colab": {
          "base_uri": "https://localhost:8080/"
        },
        "id": "CUZhhZEPjpAZ",
        "outputId": "923fb1ab-2e9f-4c53-c6c5-597e56db9356"
      },
      "execution_count": 2,
      "outputs": [
        {
          "output_type": "stream",
          "name": "stdout",
          "text": [
            "Correlation between projects and wiki enabled: 0.309\n"
          ]
        }
      ]
    },
    {
      "cell_type": "markdown",
      "source": [
        "###Question 12"
      ],
      "metadata": {
        "id": "thCug0fDjBCS"
      }
    },
    {
      "cell_type": "code",
      "source": [
        "import csv\n",
        "import numpy as np\n",
        "\n",
        "def hireable_following_difference(filename=\"users.csv\"):\n",
        "    hireable_following = []\n",
        "    not_hireable_following = []\n",
        "\n",
        "    with open(filename, mode=\"r\", encoding=\"utf-8\") as file:\n",
        "        reader = csv.DictReader(file)\n",
        "        for row in reader:\n",
        "            following = int(row[\"following\"])\n",
        "            if row[\"hireable\"] == \"true\":\n",
        "                hireable_following.append(following)\n",
        "            else:\n",
        "                not_hireable_following.append(following)\n",
        "\n",
        "    avg_hireable_following = np.mean(hireable_following) if hireable_following else 0\n",
        "    avg_not_hireable_following = np.mean(not_hireable_following) if not_hireable_following else 0\n",
        "\n",
        "    difference = avg_hireable_following - avg_not_hireable_following\n",
        "\n",
        "    return round(difference, 3)\n",
        "\n",
        "following_difference = hireable_following_difference()\n",
        "print(\"Average following difference (hireable - not hireable):\", following_difference)\n"
      ],
      "metadata": {
        "colab": {
          "base_uri": "https://localhost:8080/"
        },
        "id": "3jkDpgdFvDtz",
        "outputId": "126ed74f-d069-491a-b3c2-2abdf01407b1"
      },
      "execution_count": null,
      "outputs": [
        {
          "output_type": "stream",
          "name": "stdout",
          "text": [
            "Average following difference (hireable - not hireable): -203.623\n"
          ]
        }
      ]
    },
    {
      "cell_type": "markdown",
      "source": [
        "###Question 13"
      ],
      "metadata": {
        "id": "JreXQYXFhsxh"
      }
    },
    {
      "cell_type": "code",
      "source": [
        "import csv\n",
        "import numpy as np\n",
        "from sklearn.linear_model import LinearRegression\n",
        "\n",
        "def bio_length_followers_regression(filename=\"users.csv\"):\n",
        "    bio_lengths = []\n",
        "    followers = []\n",
        "\n",
        "    with open(filename, mode=\"r\", encoding=\"utf-8\") as file:\n",
        "        reader = csv.DictReader(file)\n",
        "        for row in reader:\n",
        "            bio = row[\"bio\"]\n",
        "            if bio:\n",
        "                bio_length = len(bio.split())\n",
        "                bio_lengths.append(bio_length)\n",
        "                followers.append(int(row[\"followers\"]))\n",
        "\n",
        "    if len(bio_lengths) < 2:\n",
        "        return None\n",
        "\n",
        "    X = np.array(bio_lengths).reshape(-1, 1)\n",
        "    y = np.array(followers)\n",
        "\n",
        "    model = LinearRegression().fit(X, y)\n",
        "    slope = model.coef_[0]\n",
        "\n",
        "    return round(slope, 3)\n",
        "\n",
        "bio_followers_slope = bio_length_followers_regression()\n",
        "print(\"Impact of bio length on followers (slope):\", bio_followers_slope)\n"
      ],
      "metadata": {
        "colab": {
          "base_uri": "https://localhost:8080/"
        },
        "id": "8XxSUowTu4Qn",
        "outputId": "65df7ee5-a05b-4c59-e7d9-9f629514bb39"
      },
      "execution_count": null,
      "outputs": [
        {
          "output_type": "stream",
          "name": "stdout",
          "text": [
            "Impact of bio length on followers (slope): -42.232\n"
          ]
        }
      ]
    },
    {
      "cell_type": "markdown",
      "source": [
        "###Question 14"
      ],
      "metadata": {
        "id": "DpjBJa9lhZXw"
      }
    },
    {
      "cell_type": "code",
      "source": [
        "from collections import Counter\n",
        "from datetime import datetime\n",
        "\n",
        "def top_5_weekend_creators(filename=\"repositories.csv\"):\n",
        "    weekend_creators = Counter()\n",
        "\n",
        "    with open(filename, mode=\"r\", encoding=\"utf-8\") as file:\n",
        "        reader = csv.DictReader(file)\n",
        "        for row in reader:\n",
        "            created_at = datetime.strptime(row[\"created_at\"], \"%Y-%m-%dT%H:%M:%SZ\")\n",
        "            if created_at.weekday() >= 5:\n",
        "                weekend_creators[row[\"login\"]] += 1\n",
        "\n",
        "    top_5 = [user for user, _ in weekend_creators.most_common(5)]\n",
        "\n",
        "    return \",\".join(top_5)\n",
        "\n",
        "top_5_weekend_users = top_5_weekend_creators()\n",
        "print(\"Top 5 users who created the most repos on weekends:\", top_5_weekend_users)\n"
      ],
      "metadata": {
        "colab": {
          "base_uri": "https://localhost:8080/"
        },
        "id": "F1AG5_oTqXm6",
        "outputId": "d3153ef2-3c18-45eb-9122-9feb66f9e618"
      },
      "execution_count": null,
      "outputs": [
        {
          "output_type": "stream",
          "name": "stdout",
          "text": [
            "Top 5 users who created the most repos on weekends: davideuler,songquanpeng,taoso,xen0n,leeight\n"
          ]
        }
      ]
    },
    {
      "cell_type": "markdown",
      "source": [
        "###Question 15"
      ],
      "metadata": {
        "id": "-I2JuBO5ibBp"
      }
    },
    {
      "cell_type": "code",
      "source": [
        "import pandas as pd\n",
        "\n",
        "def analyze_email_sharing(users_csv_path='users.csv'):\n",
        "    df = pd.read_csv(users_csv_path)\n",
        "\n",
        "    df['has_email'] = df['email'].notna() & (df['email'] != '')\n",
        "\n",
        "    hireable_mask = df['hireable'] == True\n",
        "    if hireable_mask.any():\n",
        "        hireable_email_fraction = df[hireable_mask]['has_email'].mean()\n",
        "    else:\n",
        "        hireable_email_fraction = 0\n",
        "\n",
        "    non_hireable_mask = df['hireable'] != True\n",
        "    if non_hireable_mask.any():\n",
        "        non_hireable_email_fraction = df[non_hireable_mask]['has_email'].mean()\n",
        "    else:\n",
        "        non_hireable_email_fraction = 0\n",
        "\n",
        "    difference = round(hireable_email_fraction - non_hireable_email_fraction, 3)\n",
        "\n",
        "    print(f\"Total users: {len(df)}\")\n",
        "    print(f\"Hireable users with email: {df[hireable_mask]['has_email'].sum()}/{hireable_mask.sum()}\")\n",
        "    print(f\"Non-hireable users with email: {df[non_hireable_mask]['has_email'].sum()}/{non_hireable_mask.sum()}\")\n",
        "    print(f\"Hireable fraction: {hireable_email_fraction:.3f}\")\n",
        "    print(f\"Non-hireable fraction: {non_hireable_email_fraction:.3f}\")\n",
        "\n",
        "    return difference\n",
        "\n",
        "result = analyze_email_sharing()\n",
        "print(f\"\\nFinal result: {result:.3f}\")"
      ],
      "metadata": {
        "colab": {
          "base_uri": "https://localhost:8080/"
        },
        "id": "t13jxMcZwN7L",
        "outputId": "64df1482-2c73-406e-c40d-912865f7e1ac"
      },
      "execution_count": null,
      "outputs": [
        {
          "output_type": "stream",
          "name": "stdout",
          "text": [
            "Total users: 742\n",
            "Hireable users with email: 160/215\n",
            "Non-hireable users with email: 353/527\n",
            "Hireable fraction: 0.744\n",
            "Non-hireable fraction: 0.670\n",
            "\n",
            "Final result: 0.074\n"
          ]
        }
      ]
    },
    {
      "cell_type": "markdown",
      "source": [
        "###Question 16"
      ],
      "metadata": {
        "id": "mYFz8nqPhg0h"
      }
    },
    {
      "cell_type": "code",
      "source": [
        "from collections import Counter\n",
        "\n",
        "def most_common_surname(filename=\"users.csv\"):\n",
        "    surnames = []\n",
        "\n",
        "    with open(filename, mode=\"r\", encoding=\"utf-8\") as file:\n",
        "        reader = csv.DictReader(file)\n",
        "        for row in reader:\n",
        "            name = row[\"name\"]\n",
        "            if name:\n",
        "                surname = name.strip().split()[-1]\n",
        "                surnames.append(surname)\n",
        "\n",
        "    surname_counts = Counter(surnames)\n",
        "    max_count = max(surname_counts.values())\n",
        "    most_common_surnames = [surname for surname, count in surname_counts.items() if count == max_count]\n",
        "\n",
        "    return \",\".join(sorted(most_common_surnames))\n",
        "\n",
        "common_surname = most_common_surname()\n",
        "print(\"Most common surname(s):\", common_surname)\n"
      ],
      "metadata": {
        "colab": {
          "base_uri": "https://localhost:8080/"
        },
        "id": "SI2XDA54uEAm",
        "outputId": "dc907fd0-f35d-4384-f0fe-b3fd87d18fff"
      },
      "execution_count": null,
      "outputs": [
        {
          "output_type": "stream",
          "name": "stdout",
          "text": [
            "Most common surname(s): Zhang\n"
          ]
        }
      ]
    }
  ]
}